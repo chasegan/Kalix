{
 "cells": [
  {
   "cell_type": "code",
   "execution_count": 2,
   "metadata": {},
   "outputs": [],
   "source": [
    "import matplotlib.pyplot as plt\n",
    "import pandas as pd"
   ]
  },
  {
   "cell_type": "code",
   "execution_count": 9,
   "metadata": {},
   "outputs": [
    {
     "data": {
      "text/html": [
       "<div>\n",
       "<style scoped>\n",
       "    .dataframe tbody tr th:only-of-type {\n",
       "        vertical-align: middle;\n",
       "    }\n",
       "\n",
       "    .dataframe tbody tr th {\n",
       "        vertical-align: top;\n",
       "    }\n",
       "\n",
       "    .dataframe thead th {\n",
       "        text-align: right;\n",
       "    }\n",
       "</style>\n",
       "<table border=\"1\" class=\"dataframe\">\n",
       "  <thead>\n",
       "    <tr style=\"text-align: right;\">\n",
       "      <th></th>\n",
       "      <th>rain</th>\n",
       "      <th>evap</th>\n",
       "      <th>scaled_rain</th>\n",
       "    </tr>\n",
       "  </thead>\n",
       "  <tbody>\n",
       "    <tr>\n",
       "      <th>0</th>\n",
       "      <td>0.6</td>\n",
       "      <td>5.725000</td>\n",
       "      <td>1.032222</td>\n",
       "    </tr>\n",
       "    <tr>\n",
       "      <th>1</th>\n",
       "      <td>2.5</td>\n",
       "      <td>5.720000</td>\n",
       "      <td>4.300925</td>\n",
       "    </tr>\n",
       "    <tr>\n",
       "      <th>2</th>\n",
       "      <td>0.5</td>\n",
       "      <td>5.716667</td>\n",
       "      <td>0.860185</td>\n",
       "    </tr>\n",
       "    <tr>\n",
       "      <th>3</th>\n",
       "      <td>3.2</td>\n",
       "      <td>5.728571</td>\n",
       "      <td>5.505184</td>\n",
       "    </tr>\n",
       "    <tr>\n",
       "      <th>4</th>\n",
       "      <td>0.3</td>\n",
       "      <td>5.700000</td>\n",
       "      <td>0.516111</td>\n",
       "    </tr>\n",
       "  </tbody>\n",
       "</table>\n",
       "</div>"
      ],
      "text/plain": [
       "   rain      evap  scaled_rain\n",
       "0   0.6  5.725000     1.032222\n",
       "1   2.5  5.720000     4.300925\n",
       "2   0.5  5.716667     0.860185\n",
       "3   3.2  5.728571     5.505184\n",
       "4   0.3  5.700000     0.516111"
      ]
     },
     "execution_count": 9,
     "metadata": {},
     "output_type": "execute_result"
    }
   ],
   "source": [
    "df = pd.DataFrame()\n",
    "df[\"rain\"] = pd.read_csv(\"../../../tests/rex_rain.csv\")[\"value\"]\n",
    "df[\"evap\"] = pd.read_csv(\"../../../tests/rex_mpot.csv\")[\"value\"]\n",
    "df[\"scaled_rain\"] = df[\"rain\"] * 1.72036997687526\n",
    "df.head()"
   ]
  },
  {
   "cell_type": "code",
   "execution_count": 12,
   "metadata": {},
   "outputs": [
    {
     "name": "stdout",
     "output_type": "stream",
     "text": [
      "              rain          evap   scaled_rain     runoff_mm          flow\n",
      "count  48824.00000  48824.000000  48824.000000  48824.000000  48824.000000\n",
      "mean       6.36333      5.147112     10.947281     10.962724    249.950114\n",
      "std       21.17319      1.398766     36.425721     22.150838    505.039098\n",
      "min        0.00000      1.428571      0.000000      0.000000      0.000000\n",
      "25%        0.00000      3.985714      0.000000      3.496560     79.721562\n",
      "50%        0.00000      5.028571      0.000000      5.777513    131.727287\n",
      "75%        3.00000      6.300000      5.161110     10.701786    244.000730\n",
      "max      742.70000      9.300000   1277.718782   1147.721764  26168.056212\n"
     ]
    },
    {
     "data": {
      "text/html": [
       "<div>\n",
       "<style scoped>\n",
       "    .dataframe tbody tr th:only-of-type {\n",
       "        vertical-align: middle;\n",
       "    }\n",
       "\n",
       "    .dataframe tbody tr th {\n",
       "        vertical-align: top;\n",
       "    }\n",
       "\n",
       "    .dataframe thead th {\n",
       "        text-align: right;\n",
       "    }\n",
       "</style>\n",
       "<table border=\"1\" class=\"dataframe\">\n",
       "  <thead>\n",
       "    <tr style=\"text-align: right;\">\n",
       "      <th></th>\n",
       "      <th>rain</th>\n",
       "      <th>evap</th>\n",
       "      <th>scaled_rain</th>\n",
       "      <th>runoff_mm</th>\n",
       "      <th>flow</th>\n",
       "    </tr>\n",
       "  </thead>\n",
       "  <tbody>\n",
       "    <tr>\n",
       "      <th>0</th>\n",
       "      <td>0.6</td>\n",
       "      <td>5.725000</td>\n",
       "      <td>1.032222</td>\n",
       "      <td>0.000000</td>\n",
       "      <td>0.000000</td>\n",
       "    </tr>\n",
       "    <tr>\n",
       "      <th>1</th>\n",
       "      <td>2.5</td>\n",
       "      <td>5.720000</td>\n",
       "      <td>4.300925</td>\n",
       "      <td>0.000000</td>\n",
       "      <td>0.000000</td>\n",
       "    </tr>\n",
       "    <tr>\n",
       "      <th>2</th>\n",
       "      <td>0.5</td>\n",
       "      <td>5.716667</td>\n",
       "      <td>0.860185</td>\n",
       "      <td>0.000000</td>\n",
       "      <td>0.000000</td>\n",
       "    </tr>\n",
       "    <tr>\n",
       "      <th>3</th>\n",
       "      <td>3.2</td>\n",
       "      <td>5.728571</td>\n",
       "      <td>5.505184</td>\n",
       "      <td>0.000000</td>\n",
       "      <td>0.000000</td>\n",
       "    </tr>\n",
       "    <tr>\n",
       "      <th>4</th>\n",
       "      <td>0.3</td>\n",
       "      <td>5.700000</td>\n",
       "      <td>0.516111</td>\n",
       "      <td>0.000000</td>\n",
       "      <td>0.000000</td>\n",
       "    </tr>\n",
       "    <tr>\n",
       "      <th>...</th>\n",
       "      <td>...</td>\n",
       "      <td>...</td>\n",
       "      <td>...</td>\n",
       "      <td>...</td>\n",
       "      <td>...</td>\n",
       "    </tr>\n",
       "    <tr>\n",
       "      <th>48819</th>\n",
       "      <td>4.5</td>\n",
       "      <td>2.642857</td>\n",
       "      <td>7.741665</td>\n",
       "      <td>9.510372</td>\n",
       "      <td>216.836478</td>\n",
       "    </tr>\n",
       "    <tr>\n",
       "      <th>48820</th>\n",
       "      <td>1.7</td>\n",
       "      <td>3.100000</td>\n",
       "      <td>2.924629</td>\n",
       "      <td>8.093034</td>\n",
       "      <td>184.521182</td>\n",
       "    </tr>\n",
       "    <tr>\n",
       "      <th>48821</th>\n",
       "      <td>13.9</td>\n",
       "      <td>3.216667</td>\n",
       "      <td>23.913143</td>\n",
       "      <td>10.853639</td>\n",
       "      <td>247.462973</td>\n",
       "    </tr>\n",
       "    <tr>\n",
       "      <th>48822</th>\n",
       "      <td>0.2</td>\n",
       "      <td>3.440000</td>\n",
       "      <td>0.344074</td>\n",
       "      <td>8.996002</td>\n",
       "      <td>205.108854</td>\n",
       "    </tr>\n",
       "    <tr>\n",
       "      <th>48823</th>\n",
       "      <td>0.0</td>\n",
       "      <td>3.350000</td>\n",
       "      <td>0.000000</td>\n",
       "      <td>7.750596</td>\n",
       "      <td>176.713594</td>\n",
       "    </tr>\n",
       "  </tbody>\n",
       "</table>\n",
       "<p>48824 rows × 5 columns</p>\n",
       "</div>"
      ],
      "text/plain": [
       "       rain      evap  scaled_rain  runoff_mm        flow\n",
       "0       0.6  5.725000     1.032222   0.000000    0.000000\n",
       "1       2.5  5.720000     4.300925   0.000000    0.000000\n",
       "2       0.5  5.716667     0.860185   0.000000    0.000000\n",
       "3       3.2  5.728571     5.505184   0.000000    0.000000\n",
       "4       0.3  5.700000     0.516111   0.000000    0.000000\n",
       "...     ...       ...          ...        ...         ...\n",
       "48819   4.5  2.642857     7.741665   9.510372  216.836478\n",
       "48820   1.7  3.100000     2.924629   8.093034  184.521182\n",
       "48821  13.9  3.216667    23.913143  10.853639  247.462973\n",
       "48822   0.2  3.440000     0.344074   8.996002  205.108854\n",
       "48823   0.0  3.350000     0.000000   7.750596  176.713594\n",
       "\n",
       "[48824 rows x 5 columns]"
      ]
     },
     "execution_count": 12,
     "metadata": {},
     "output_type": "execute_result"
    }
   ],
   "source": [
    "%run gr4j.py\n",
    "\n",
    "params = {\n",
    "    \"X1\": 1999.99999999996, #[100, 1200]\n",
    "    \"X2\": 5.99999999999991, #[-5, 3]\n",
    "    \"X3\": 65.2245666006408, #[20, 300]\n",
    "    \"X4\": 0.380800595584489, #[1.1, 2.9]\n",
    "}\n",
    "\n",
    "\n",
    "df[\"runoff_mm\"] = gr4j(df[\"scaled_rain\"], df[\"evap\"], params)\n",
    "df[\"flow\"] = df[\"runoff_mm\"] * 22.8\n",
    "print(df.describe())\n",
    "df"
   ]
  },
  {
   "attachments": {},
   "cell_type": "markdown",
   "metadata": {},
   "source": [
    "# Another test"
   ]
  },
  {
   "cell_type": "code",
   "execution_count": 56,
   "metadata": {},
   "outputs": [
    {
     "data": {
      "text/plain": [
       "[0.00012177789689547126,\n",
       " 0.001364014742718896,\n",
       " 0.006154734942327555,\n",
       " 0.016036312834266125,\n",
       " 0.023938910695293348,\n",
       " 0.010122569930529105,\n",
       " 0.0008431392654608832,\n",
       " 0.0015330282607797256,\n",
       " 0.0008245331425899391,\n",
       " 0.031187662973283365,\n",
       " 0.13132156963427596,\n",
       " 0.06940200250631864,\n",
       " 0.003650420037997223,\n",
       " 0.014162026333384349,\n",
       " 0.058270609002816956]"
      ]
     },
     "execution_count": 56,
     "metadata": {},
     "output_type": "execute_result"
    }
   ],
   "source": [
    "%run gr4j.py\n",
    "\n",
    "params = {\n",
    "    \"X1\": 350, #[100, 1200]\n",
    "    \"X2\": 0, #[-5, 3]\n",
    "    \"X3\": 90, #[20, 300]\n",
    "    \"X4\": 1.7, #[1.1, 2.9]\n",
    "}\n",
    "\n",
    "precip = [20, 20, 20, 20, 0, \n",
    "    0, 5, 2, 0, 50, \n",
    "    0, 0, 0, 18, 0\n",
    "]\n",
    "\n",
    "potential_evap = [\n",
    "    5, 5, 5, 5, 5,\n",
    "    4, 4, 4, 4, 4,\n",
    "    5, 5, 5, 5, 5, \n",
    "]\n",
    "\n",
    "q = gr4j(precip, potential_evap, params)\n",
    "q"
   ]
  },
  {
   "cell_type": "code",
   "execution_count": 55,
   "metadata": {},
   "outputs": [
    {
     "data": {
      "image/png": "[encoded data removed]",
      "text/plain": [
       "<Figure size 1152x576 with 1 Axes>"
      ]
     },
     "metadata": {
      "needs_background": "light"
     },
     "output_type": "display_data"
    }
   ],
   "source": [
    "plt.rcParams[\"figure.figsize\"] = (16,8)\n",
    "\n",
    "fig = plt.figure()\n",
    "ax = fig.add_subplot(111)\n",
    "#ax.set_ylim(0,10)\n",
    "x = [i for i in range(0,15)]\n",
    "plt.plot(x, q)\n",
    "for i,j in zip(x,q):\n",
    "    ax.annotate(f\"{q[i]:f}\",xy=(i,j)) #\"For only {price:.2f} dollars!\"\n",
    "\n",
    "plt.show()"
   ]
  },
  {
   "cell_type": "code",
   "execution_count": null,
   "metadata": {},
   "outputs": [],
   "source": []
  }
 ],
 "metadata": {
  "kernelspec": {
   "display_name": "Python 3.9.10 ('base')",
   "language": "python",
   "name": "python3"
  },
  "language_info": {
   "codemirror_mode": {
    "name": "ipython",
    "version": 3
   },
   "file_extension": ".py",
   "mimetype": "text/x-python",
   "name": "python",
   "nbconvert_exporter": "python",
   "pygments_lexer": "ipython3",
   "version": "3.9.13"
  },
  "orig_nbformat": 4,
  "vscode": {
   "interpreter": {
    "hash": "6ecd6c40c964c34e8e4c8e1057e118461ab9c15b48732c8e34cf1ae4f12d3260"
   }
  }
 },
 "nbformat": 4,
 "nbformat_minor": 2
}
